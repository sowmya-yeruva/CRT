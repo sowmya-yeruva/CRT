{
 "cells": [
  {
   "cell_type": "markdown",
   "metadata": {},
   "source": [
    "# functions:\n",
    "- code reusability :\n",
    "- simpler\n",
    "- program can be further divided into subprograms"
   ]
  },
  {
   "cell_type": "markdown",
   "metadata": {},
   "source": [
    "### syntax:\n",
    "- def functionname():\n",
    "    - statements\n",
    "    - return"
   ]
  },
  {
   "cell_type": "code",
   "execution_count": null,
   "metadata": {},
   "outputs": [],
   "source": [
    "# read a number\n",
    "# output: sum of even digits from the given number\n",
    "# Input:1234\n",
    "#Output:6(2+4)"
   ]
  },
  {
   "cell_type": "code",
   "execution_count": 1,
   "metadata": {},
   "outputs": [
    {
     "data": {
      "text/plain": [
       "6"
      ]
     },
     "execution_count": 1,
     "metadata": {},
     "output_type": "execute_result"
    }
   ],
   "source": [
    "def evendigitsum(n):\n",
    "    s=0\n",
    "    while n!=0:\n",
    "        r=n%10 # 1234 %10 = 4\n",
    "        if r%2==0:\n",
    "            s=s+r\n",
    "        n = n//10 #1234//10 =123\n",
    "    return s\n",
    "evendigitsum(1234)"
   ]
  },
  {
   "cell_type": "code",
   "execution_count": 11,
   "metadata": {},
   "outputs": [
    {
     "name": "stdout",
     "output_type": "stream",
     "text": [
      "9\n"
     ]
    }
   ],
   "source": [
    "#Input:19535\n",
    "#output:9(print the largest digit from the given number)\n",
    "def largedigit(n):\n",
    "    large=0\n",
    "    while n!=0: \n",
    "        r=n%10  #19535 %10=5 #1953%10=3\n",
    "        if large<r:#0<3 #5<3\n",
    "            large =r #large =5 5\n",
    "        n=n//10 #19535//10=1953 #19535//10=195\n",
    "    print(large)\n",
    "largedigit(19535)\n"
   ]
  },
  {
   "cell_type": "code",
   "execution_count": 10,
   "metadata": {},
   "outputs": [],
   "source": [
    "l"
   ]
  },
  {
   "cell_type": "markdown",
   "metadata": {},
   "source": [
    "# for loop:\n",
    "### Syntax:\n",
    "- for variable_name in iterable_obj:\n",
    "    - statements\n",
    "- for variable_name in range(start,stop,step):\n",
    "    - statements"
   ]
  },
  {
   "cell_type": "code",
   "execution_count": 6,
   "metadata": {},
   "outputs": [
    {
     "name": "stdout",
     "output_type": "stream",
     "text": [
      "0\n",
      "4\n",
      "8\n"
     ]
    }
   ],
   "source": [
    "for i in range(0,10+1,4):\n",
    "    print (i)"
   ]
  },
  {
   "cell_type": "code",
   "execution_count": 7,
   "metadata": {},
   "outputs": [],
   "source": [
    "#function to print the alternate numbers:\n",
    "#[500,520]--502,504,506,508,510,.......516,518,520"
   ]
  },
  {
   "cell_type": "code",
   "execution_count": null,
   "metadata": {},
   "outputs": [],
   "source": []
  },
  {
   "cell_type": "markdown",
   "metadata": {},
   "source": [
    "# collection types\n",
    "##  1.list\n",
    "##  2.tuple\n",
    "##  3.set\n",
    "##  4.dictionary\n"
   ]
  },
  {
   "cell_type": "markdown",
   "metadata": {},
   "source": [
    "# 1.lists:\n",
    "   - list is one of the data structure in python\n",
    "   - lists are enclosed in[]\n",
    "   - list=[1,2,3,4]"
   ]
  },
  {
   "cell_type": "code",
   "execution_count": 12,
   "metadata": {},
   "outputs": [
    {
     "data": {
      "text/plain": [
       "list"
      ]
     },
     "execution_count": 12,
     "metadata": {},
     "output_type": "execute_result"
    }
   ],
   "source": [
    "li=[1,\"gitam\",\"python\",32.5]\n",
    "type(li)"
   ]
  },
  {
   "cell_type": "code",
   "execution_count": 15,
   "metadata": {},
   "outputs": [
    {
     "name": "stdout",
     "output_type": "stream",
     "text": [
      "[1, 'gitam', 'python', 32.5]\n",
      "1\n",
      "32.5\n",
      "['gitam']\n",
      "['gitam', 'python']\n"
     ]
    }
   ],
   "source": [
    "print(li)\n",
    "print(li[0])\n",
    "print(li[-1])\n",
    "print(li[1:2])\n",
    "print(li[1:3])"
   ]
  },
  {
   "cell_type": "code",
   "execution_count": null,
   "metadata": {},
   "outputs": [],
   "source": []
  },
  {
   "cell_type": "code",
   "execution_count": null,
   "metadata": {},
   "outputs": [],
   "source": []
  },
  {
   "cell_type": "code",
   "execution_count": null,
   "metadata": {},
   "outputs": [],
   "source": []
  }
 ],
 "metadata": {
  "kernelspec": {
   "display_name": "Python 3",
   "language": "python",
   "name": "python3"
  },
  "language_info": {
   "codemirror_mode": {
    "name": "ipython",
    "version": 3
   },
   "file_extension": ".py",
   "mimetype": "text/x-python",
   "name": "python",
   "nbconvert_exporter": "python",
   "pygments_lexer": "ipython3",
   "version": "3.7.4"
  }
 },
 "nbformat": 4,
 "nbformat_minor": 2
}
